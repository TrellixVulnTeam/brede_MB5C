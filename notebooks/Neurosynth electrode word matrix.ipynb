{
 "cells": [
  {
   "cell_type": "markdown",
   "metadata": {},
   "source": [
    "Neurosynth electrode word matrix\n",
    "==================\n",
    "\n",
    "Download Neurosynth and associated abstracts from Pubmed. "
   ]
  },
  {
   "cell_type": "code",
   "execution_count": 1,
   "metadata": {
    "collapsed": true
   },
   "outputs": [],
   "source": [
    "from everything import *"
   ]
  },
  {
   "cell_type": "code",
   "execution_count": 2,
   "metadata": {
    "collapsed": false
   },
   "outputs": [],
   "source": [
    "from brede.data.neurosynth import NeurosynthDatabase\n",
    "from brede.data.pubmed import Pubmed\n",
    "from brede.data.words import CognitiveWords\n",
    "from brede.core.matrix import Matrix\n",
    "from brede.data.sbs2 import SBS2Data"
   ]
  },
  {
   "cell_type": "code",
   "execution_count": 3,
   "metadata": {
    "collapsed": true
   },
   "outputs": [],
   "source": [
    "# Log to logfile named 'brede.log'\n",
    "import logging\n",
    "logger = logging.getLogger()\n",
    "\n",
    "file_handler = logging.FileHandler(filename='brede.log', mode='a')\n",
    "formatter = logging.Formatter('%(asctime)s - %(name)s - %(levelname)s - %(message)s')\n",
    "file_handler.setFormatter(formatter)\n",
    "logger.addHandler(file_handler)\n",
    "logger.setLevel(logging.DEBUG)"
   ]
  },
  {
   "cell_type": "code",
   "execution_count": 4,
   "metadata": {
    "collapsed": true
   },
   "outputs": [],
   "source": [
    "pubmed = Pubmed()"
   ]
  },
  {
   "cell_type": "code",
   "execution_count": 5,
   "metadata": {
    "collapsed": false
   },
   "outputs": [],
   "source": [
    "# Load Neurosynth\n",
    "nd = NeurosynthDatabase()\n",
    "nd_database = nd.database()"
   ]
  },
  {
   "cell_type": "code",
   "execution_count": 6,
   "metadata": {
    "collapsed": false
   },
   "outputs": [],
   "source": [
    "# Get abstracts for Neurosynth papers from PubMed\n",
    "# This will take some hours time \n",
    "medlines = pubmed.get_medlines(set(nd_database.id))"
   ]
  },
  {
   "cell_type": "code",
   "execution_count": 7,
   "metadata": {
    "collapsed": false
   },
   "outputs": [],
   "source": [
    "# Find keywords in abstracts and add them to a list of list of words\n",
    "cognitive_words = CognitiveWords()\n",
    "corpus = []\n",
    "for n, medline in enumerate(medlines):\n",
    "    abstract = medline.get('AB', '').lower()\n",
    "    keywords = cognitive_words.find_all(abstract)\n",
    "    corpus.append(keywords)\n",
    "    logger.debug(('Iterating over medline abstracts '\n",
    "                  'for keyword extraction: {}').format(n))"
   ]
  },
  {
   "cell_type": "code",
   "execution_count": 8,
   "metadata": {
    "collapsed": false
   },
   "outputs": [],
   "source": [
    "# Corpus-wide keywords\n",
    "all_keywords = [word for wordlist in corpus for word in wordlist]\n",
    "all_unique_keywords = set(all_keywords)"
   ]
  },
  {
   "cell_type": "code",
   "execution_count": 9,
   "metadata": {
    "collapsed": false
   },
   "outputs": [],
   "source": [
    "# Build bag-of-phrases matrix\n",
    "bag_of_phrases = pd.DataFrame(index=[medline['PMID'] for medline in medlines], \n",
    "                              columns=list(all_unique_keywords)).fillna(0)\n",
    "for n, (medline, keywords) in enumerate(zip(medlines, corpus)):\n",
    "    for keyword in keywords:\n",
    "        bag_of_phrases.ix[n, keyword] += 1\n",
    "        if ' ' in keyword:\n",
    "            keyword_parts = keyword.split()\n",
    "            for keyword_part in keyword_parts:\n",
    "                if keyword_part in all_unique_keywords:\n",
    "                    bag_of_phrases.ix[n, keyword_part] += 1 / len(keyword_parts)\n",
    "    logger.debug(('Iterating over medline abstracts '\n",
    "                 'for matrix construction: {}').format(n))"
   ]
  },
  {
   "cell_type": "code",
   "execution_count": 10,
   "metadata": {
    "collapsed": true
   },
   "outputs": [],
   "source": [
    "# Scale bag-of-phrases matrix with IDF\n",
    "scaled = Matrix(bag_of_phrases).idf()"
   ]
  },
  {
   "cell_type": "code",
   "execution_count": 11,
   "metadata": {
    "collapsed": true
   },
   "outputs": [],
   "source": [
    "# Read Smartphone Brain Scanner surface\n",
    "sbs2_data = SBS2Data()\n",
    "surface = sbs2_data.surface()"
   ]
  },
  {
   "cell_type": "code",
   "execution_count": 12,
   "metadata": {
    "collapsed": true
   },
   "outputs": [],
   "source": [
    "grouped = nd_database[['id', 'x', 'y', 'z']].groupby('id')\n",
    "v = np.zeros((len(grouped), surface.vertices.shape[0]))\n",
    "sigma = 10\n",
    "norm1 = 1 / (sigma * math.sqrt(2 * math.pi))\n",
    "norm2 = -1 / (2 * sigma ** 2)"
   ]
  },
  {
   "cell_type": "code",
   "execution_count": 13,
   "metadata": {
    "collapsed": true
   },
   "outputs": [],
   "source": [
    "# Cortexification of study coordinates\n",
    "for n in range(len(grouped)):\n",
    "    coords = grouped.get_group(grouped.groups.keys()[n]).ix[:, ['x','y', 'z']]\n",
    "    p = 0 \n",
    "    for index, coord in coords.iterrows():\n",
    "        p += norm1 * np.exp(norm2 * np.sum((surface.vertices - coord.values) ** 2, axis=1))\n",
    "    p /= math.sqrt(len(coord))\n",
    "    v[n, :] = p \n",
    "    if not n % 100:\n",
    "        logger.debug(('Iterating over medline abstracts '\n",
    "                      'for computing Talairach coordinate load: {}').format(n))"
   ]
  },
  {
   "cell_type": "code",
   "execution_count": 14,
   "metadata": {
    "collapsed": false
   },
   "outputs": [
    {
     "data": {
      "text/plain": [
       "(1028, 1135)"
      ]
     },
     "execution_count": 14,
     "metadata": {},
     "output_type": "execute_result"
    }
   ],
   "source": [
    "product = v.T.dot(scaled)\n",
    "product_matrix = Matrix(product, columns=bag_of_phrases.columns)\n",
    "product_matrix.shape"
   ]
  },
  {
   "cell_type": "code",
   "execution_count": 15,
   "metadata": {
    "collapsed": false
   },
   "outputs": [],
   "source": [
    "product_matrix.to_csv('neurosynth electrode word matrix.csv')"
   ]
  },
  {
   "cell_type": "code",
   "execution_count": null,
   "metadata": {
    "collapsed": false
   },
   "outputs": [],
   "source": []
  }
 ],
 "metadata": {
  "kernelspec": {
   "display_name": "Python 2",
   "language": "python",
   "name": "python2"
  },
  "language_info": {
   "codemirror_mode": {
    "name": "ipython",
    "version": 2
   },
   "file_extension": ".py",
   "mimetype": "text/x-python",
   "name": "python",
   "nbconvert_exporter": "python",
   "pygments_lexer": "ipython2",
   "version": "2.7.12"
  }
 },
 "nbformat": 4,
 "nbformat_minor": 2
}
